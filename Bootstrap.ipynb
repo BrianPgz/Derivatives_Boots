{
 "cells": [
  {
   "cell_type": "markdown",
   "metadata": {},
   "source": [
    "Bootstraping "
   ]
  },
  {
   "cell_type": "code",
   "execution_count": 1,
   "metadata": {
    "scrolled": true
   },
   "outputs": [],
   "source": [
    "import numpy as np \n",
    "import pandas as pd \n",
    "import matplotlib as mpl\n",
    "import scipy \n",
    "import matplotlib.pyplot as plt\n",
    "from math import log\n",
    "from datetime import date, datetime , time, timedelta\n",
    "import calendar\n",
    "import locale\n",
    "from pandas.tseries.offsets import BDay"
   ]
  },
  {
   "cell_type": "markdown",
   "metadata": {},
   "source": [
    "Ponemos el idioma en español para mayor facilidad"
   ]
  },
  {
   "cell_type": "code",
   "execution_count": 2,
   "metadata": {
    "scrolled": true
   },
   "outputs": [
    {
     "data": {
      "text/plain": [
       "'es_MX.UTF-8'"
      ]
     },
     "execution_count": 2,
     "metadata": {},
     "output_type": "execute_result"
    }
   ],
   "source": [
    "locale.setlocale(locale.LC_ALL, \"es_MX.UTF-8\")"
   ]
  },
  {
   "cell_type": "code",
   "execution_count": 133,
   "metadata": {},
   "outputs": [
    {
     "name": "stdout",
     "output_type": "stream",
     "text": [
      "     tipo    tasas\n",
      "0     O/N  0.06240\n",
      "1    TIIE  0.06240\n",
      "2     3X1  0.06655\n",
      "3     6X1  0.07180\n",
      "4     9X1  0.07660\n",
      "5    13X1  0.08170\n",
      "6    26X1  0.08640\n",
      "7    39X1  0.08685\n",
      "8    52X1  0.08610\n",
      "9    65X1  0.08565\n",
      "10   91X1  0.08565\n",
      "11  130X1  0.08570\n",
      "12  195X1  0.08810\n",
      "13  260X1  0.08970\n",
      "14  390X1  0.09065\n"
     ]
    }
   ],
   "source": [
    "t_tasas=pd.DataFrame() \n",
    "t_tasas[\"tipo\"]= [\"O/N\",\"TIIE\", \"3X1\",\"6X1\",\"9X1\",\"13X1\",\"26X1\"\n",
    "                  ,\"39X1\",\"52X1\",\"65X1\",\"91X1\",\"130X1\",\"195X1\",\n",
    "                 \"260X1\",\"390X1\"]\n",
    "t_tasas[\"tasas\"]=[0.0624,\n",
    "0.0624,0.06655,0.0718,0.0766,0.0817,0.0864,0.08685,0.0861,0.08565,0.08565,0.0857,0.0881,0.0897,0.09065]\n",
    "print(t_tasas)\n"
   ]
  },
  {
   "cell_type": "code",
   "execution_count": 3,
   "metadata": {},
   "outputs": [],
   "source": [
    "#Días festivos en México\n",
    "import holidays \n",
    "mx_holidays = holidays.Mexico()\n"
   ]
  },
  {
   "cell_type": "code",
   "execution_count": 4,
   "metadata": {
    "scrolled": true
   },
   "outputs": [
    {
     "name": "stdout",
     "output_type": "stream",
     "text": [
      "(datetime.date(2022, 1, 1), \"Año Nuevo [New Year's Day]\")\n",
      "(datetime.date(2022, 2, 7), 'Día de la Constitución [Constitution Day] (Observed)')\n",
      "(datetime.date(2022, 2, 5), 'Día de la Constitución [Constitution Day]')\n",
      "(datetime.date(2022, 3, 21), \"Natalicio de Benito Juárez [Benito Juárez's birthday] (Observed)\")\n",
      "(datetime.date(2022, 5, 1), 'Día del Trabajo [Labour Day]')\n",
      "(datetime.date(2022, 5, 2), 'Día del Trabajo [Labour Day] (Observed)')\n",
      "(datetime.date(2022, 9, 16), 'Día de la Independencia [Independence Day]')\n",
      "(datetime.date(2022, 11, 21), 'Día de la Revolución [Revolution Day] (Observed)')\n",
      "(datetime.date(2022, 11, 20), 'Día de la Revolución [Revolution Day]')\n",
      "(datetime.date(2022, 12, 25), 'Navidad [Christmas]')\n",
      "(datetime.date(2022, 12, 26), 'Transmisión del Poder Ejecutivo Federal [Change of Federal Government] (Observed)')\n",
      "(datetime.date(2039, 1, 1), \"Año Nuevo [New Year's Day]\")\n",
      "(datetime.date(2039, 2, 7), 'Día de la Constitución [Constitution Day] (Observed)')\n",
      "(datetime.date(2039, 2, 5), 'Día de la Constitución [Constitution Day]')\n",
      "(datetime.date(2039, 3, 21), \"Natalicio de Benito Juárez [Benito Juárez's birthday] (Observed)\")\n",
      "(datetime.date(2039, 5, 1), 'Día del Trabajo [Labour Day]')\n",
      "(datetime.date(2039, 5, 2), 'Día del Trabajo [Labour Day] (Observed)')\n",
      "(datetime.date(2039, 9, 16), 'Día de la Independencia [Independence Day]')\n",
      "(datetime.date(2039, 11, 21), 'Día de la Revolución [Revolution Day] (Observed)')\n",
      "(datetime.date(2039, 11, 20), 'Día de la Revolución [Revolution Day]')\n",
      "(datetime.date(2039, 12, 25), 'Navidad [Christmas]')\n",
      "(datetime.date(2039, 12, 26), 'Transmisión del Poder Ejecutivo Federal [Change of Federal Government] (Observed)')\n"
     ]
    }
   ],
   "source": [
    "#Imprime los días festivos\n",
    "for i in holidays.Mexico(years=[2022,2039]).items():\n",
    "    print(i)\n",
    "   "
   ]
  },
  {
   "cell_type": "code",
   "execution_count": 63,
   "metadata": {
    "scrolled": true
   },
   "outputs": [],
   "source": [
    "from datetime import timedelta\n",
    "import datetime\n"
   ]
  },
  {
   "cell_type": "code",
   "execution_count": 120,
   "metadata": {},
   "outputs": [],
   "source": [
    "fraction_360 = datetime.timedelta(days= 360) #Fraccion 360"
   ]
  },
  {
   "cell_type": "code",
   "execution_count": 121,
   "metadata": {
    "scrolled": true
   },
   "outputs": [
    {
     "data": {
      "text/plain": [
       "datetime.date"
      ]
     },
     "execution_count": 121,
     "metadata": {},
     "output_type": "execute_result"
    }
   ],
   "source": [
    "#Hoy (Solo importa para el programador)\n",
    "today = datetime.date.today()\n",
    "#print(dia_hoy)"
   ]
  },
  {
   "cell_type": "code",
   "execution_count": 116,
   "metadata": {},
   "outputs": [
    {
     "data": {
      "text/plain": [
       "Timestamp('2022-03-28 00:00:00')"
      ]
     },
     "execution_count": 116,
     "metadata": {},
     "output_type": "execute_result"
    }
   ],
   "source": [
    "#Dia inicio (Ayuda para el programador)\n",
    "dia_spot = today + BDay(1)\n",
    "dia_spot #Esta fecha es la que se debe introducir en el codigo siguiente\n",
    "#print(dia_spot)"
   ]
  },
  {
   "cell_type": "code",
   "execution_count": 117,
   "metadata": {},
   "outputs": [],
   "source": [
    "dia_spot=datetime.date(2022,3,28)#Se debe hacer manual y se debe pasar la fecha anterior en el formato (AAAA,M,D)"
   ]
  },
  {
   "cell_type": "code",
   "execution_count": 122,
   "metadata": {},
   "outputs": [],
   "source": [
    "tau_0 = (dia_spot-today)/fraction_360 #Tau para el P_0"
   ]
  },
  {
   "cell_type": "code",
   "execution_count": null,
   "metadata": {},
   "outputs": [],
   "source": [
    "#fixing day (Ayuda para el programador)\n",
    "#dia_fixing = dia_hoy + BDay(-1)\n",
    "#print(dia_fixing)"
   ]
  },
  {
   "cell_type": "code",
   "execution_count": 8,
   "metadata": {},
   "outputs": [],
   "source": [
    "#Pago de cupon (Cupones cada 28 días)\n",
    "dias = datetime.timedelta(days= 28) #SI ES IMPORTANTE"
   ]
  },
  {
   "cell_type": "code",
   "execution_count": null,
   "metadata": {},
   "outputs": [],
   "source": [
    "#Calcular fecha  final pago (Ayuda para el programador)\n",
    "#dia_final = dia_hoy + dias + BDay(1)\n",
    "#print(dia_final)"
   ]
  },
  {
   "cell_type": "code",
   "execution_count": null,
   "metadata": {},
   "outputs": [],
   "source": [
    "#renglon1 = [dia_spot, dia_fixing, dia_final] (Ayuda para el programador)\n",
    "#print(renglon1)"
   ]
  },
  {
   "cell_type": "code",
   "execution_count": 123,
   "metadata": {},
   "outputs": [],
   "source": [
    "#Establecemos la fecha\n",
    "s1=\"2022/03/27\" #Introduzca la fecha como cliente\n",
    "#La asignamos a la variable fecha_pago en formato fecha\n",
    "dia_hoy = datetime.datetime.strptime(s1,\"%Y/%m/%d\")"
   ]
  },
  {
   "cell_type": "code",
   "execution_count": 124,
   "metadata": {
    "scrolled": false
   },
   "outputs": [],
   "source": [
    "#Ya estan!!!!!!\n",
    "id_cupon1 = []\n",
    "dia_start1= []\n",
    "dia_fixing1 = []\n",
    "dia_final1 =[]\n",
    "tau1 = []\n",
    "for i in range(1,391):\n",
    "    id_cupon = i\n",
    "    id_cupon1.append(id_cupon)\n",
    "    #Fechas cupon\n",
    "    dia_final = dia_hoy + dias + BDay(1)\n",
    "    dia_hoy = dia_final.strftime(\"%Y/%m/%d\")\n",
    "    dia_hoy = datetime.datetime.strptime(dia_hoy,\"%Y/%m/%d\") - datetime.timedelta(days= 1)\n",
    "    #Fechas start\n",
    "    dia_start = dia_final - dias + BDay(1) - datetime.timedelta(days= 1)\n",
    "    dia_start\n",
    "    #Fechas fixing\n",
    "    dia_fixing = dia_start + BDay(-1)\n",
    "    dia_fixing1.append(dia_fixing.strftime(\"%Y/%m/%d\"))\n",
    "    #Tau\n",
    "    tau = (dia_final - dia_start)/fraction_360\n",
    "    tau1.append(tau)\n",
    "    #Conversion a string para el DF\n",
    "    dia_final1.append(dia_final.strftime(\"%Y/%m/%d\"))\n",
    "    dia_start1.append(dia_start.strftime(\"%Y/%m/%d\"))\n"
   ]
  },
  {
   "cell_type": "code",
   "execution_count": 134,
   "metadata": {
    "scrolled": false
   },
   "outputs": [
    {
     "data": {
      "text/plain": [
       "0.999826681688021"
      ]
     },
     "execution_count": 134,
     "metadata": {},
     "output_type": "execute_result"
    }
   ],
   "source": [
    "#Primer factor de descuento P(0,1d)\n",
    "P_0 = np.exp(-t_tasas.loc[0][1]*(tau_0))\n",
    "P_0"
   ]
  },
  {
   "cell_type": "code",
   "execution_count": 135,
   "metadata": {
    "scrolled": true
   },
   "outputs": [
    {
     "data": {
      "text/plain": [
       "0.9949976265405442"
      ]
     },
     "execution_count": 135,
     "metadata": {},
     "output_type": "execute_result"
    }
   ],
   "source": [
    "#Segundo factor de descuento P(0,29d)\n",
    "P_1 = P_0/(1+t_tasas.loc[1][1])*tau1[1])\n",
    "P_1"
   ]
  },
  {
   "cell_type": "code",
   "execution_count": 255,
   "metadata": {},
   "outputs": [],
   "source": [
    "interpolados = pd.Series([np.nan for i in range(1,391)]) #Asignamos los valores que nos dan\n",
    "interpolados[0] = t_tasas.loc[0][1]\n",
    "interpolados[2] = t_tasas.loc[1][1]\n",
    "interpolados[5] = t_tasas.loc[2][1]\n",
    "interpolados[8] = t_tasas.loc[3][1]\n",
    "interpolados[12] = t_tasas.loc[4][1]\n",
    "interpolados[25] = t_tasas.loc[5][1]\n",
    "interpolados[38] = t_tasas.loc[6][1]\n",
    "interpolados[51] = t_tasas.loc[7][1]\n",
    "interpolados[64] = t_tasas.loc[8][1]\n",
    "interpolados[90] = t_tasas.loc[9][1]\n",
    "interpolados[129] = t_tasas.loc[10][1]\n",
    "interpolados[194] = t_tasas.loc[11][1]\n",
    "interpolados[259] = t_tasas.loc[12][1]\n",
    "interpolados[389] = t_tasas.loc[13][1]\n",
    "#interpolados"
   ]
  },
  {
   "cell_type": "code",
   "execution_count": 256,
   "metadata": {},
   "outputs": [],
   "source": [
    "interpolados = interpolados.interpolate(method = \"linear\") #Interpolacion lineal de las tasas \n"
   ]
  },
  {
   "cell_type": "code",
   "execution_count": 304,
   "metadata": {
    "scrolled": true
   },
   "outputs": [
    {
     "data": {
      "text/plain": [
       "[0.0624, 0.0624, 0.06378333333333333]"
      ]
     },
     "execution_count": 304,
     "metadata": {},
     "output_type": "execute_result"
    }
   ],
   "source": [
    "interpolados1 = [np.nan for i in range(1,391)]\n",
    "interpolados1 = list(interpolados)\n"
   ]
  },
  {
   "cell_type": "code",
   "execution_count": 338,
   "metadata": {},
   "outputs": [
    {
     "data": {
      "text/plain": [
       "[0.9949976265405442, 0.9903643764123353]"
      ]
     },
     "execution_count": 338,
     "metadata": {},
     "output_type": "execute_result"
    }
   ],
   "source": [
    "factores_descuentos[0:2]"
   ]
  },
  {
   "cell_type": "code",
   "execution_count": 355,
   "metadata": {},
   "outputs": [
    {
     "data": {
      "text/plain": [
       "[0.0624, 0.0624]"
      ]
     },
     "execution_count": 355,
     "metadata": {},
     "output_type": "execute_result"
    }
   ],
   "source": [
    "factores_descuentos = [1 for i in range(0,390)]\n",
    "factores_descuentos[0] = P_1\n",
    "factores_descuentos[1] = (1 - interpolados[1]*np.dot(tau1[0],factores_descuentos[0]))/(1+tau1[1]*interpolados[1]) #Caso base\n",
    "factores_descuentos[0:2]#bien\n",
    "tau1[0:2]#bien\n",
    "interpolados1[0:2]#bien"
   ]
  },
  {
   "cell_type": "code",
   "execution_count": 366,
   "metadata": {},
   "outputs": [],
   "source": [
    "factores_descuentos1 = []\n",
    "for i in range(0,390):\n",
    "    factores_descuentos_aux = (1 - interpolados1[i]*np.dot(tau1[0:i],factores_descuentos[0:i]))/(1+tau1[i]*interpolados1[i])\n",
    "    factores_descuentos1.append(factores_descuentos_aux)"
   ]
  },
  {
   "cell_type": "code",
   "execution_count": 367,
   "metadata": {},
   "outputs": [
    {
     "data": {
      "text/plain": [
       "[0.9949976265405442,\n",
       " 0.9903643764123353,\n",
       " 0.9855810231798358,\n",
       " 0.980326513026929,\n",
       " 0.9748590278494336,\n",
       " 0.9691786360369621,\n",
       " 0.9630882879546346,\n",
       " 0.9567288417146366,\n",
       " 0.9501004065884945,\n",
       " 0.9436254158775297,\n",
       " 0.9369660313221946,\n",
       " 0.9301223042517488,\n",
       " 0.9230942859764014,\n",
       " 0.9167501127213262,\n",
       " 0.910345663770032,\n",
       " 0.9038809446068857,\n",
       " 0.8973559607155904,\n",
       " 0.8907707175791831,\n",
       " 0.884125220680036,\n",
       " 0.8774194754998564,\n",
       " 0.8706534875196862,\n",
       " 0.8638272622199031,\n",
       " 0.8569408050802193,\n",
       " 0.8499941215796833,\n",
       " 0.8429872171966781,\n",
       " 0.835920097408923,\n",
       " 0.8288565313446834,\n",
       " 0.8217374789198408,\n",
       " 0.8145629447852221,\n",
       " 0.8073329335911343,\n",
       " 0.8000474499873644,\n",
       " 0.7927064986231807,\n",
       " 0.7853100841473306,\n",
       " 0.7778582112080434,\n",
       " 0.7703508844530276,\n",
       " 0.762788108529474,\n",
       " 0.7551698880840525,\n",
       " 0.7474962277629152,\n",
       " 0.739767132211694,\n",
       " 0.7329857689595166,\n",
       " 0.7261990933347365,\n",
       " 0.7194071053799745,\n",
       " 0.7126098051378509,\n",
       " 0.7058071926509858,\n",
       " 0.6989992679619987,\n",
       " 0.6921860311135086,\n",
       " 0.6853674821481344,\n",
       " 0.6785436211084938,\n",
       " 0.6717144480372046,\n",
       " 0.6648799629768841,\n",
       " 0.6580401659701489,\n",
       " 0.6511950570596156,\n",
       " 0.6447199569848003,\n",
       " 0.638253713412891,\n",
       " 0.6317963264623118,\n",
       " 0.6253477962514884,\n",
       " 0.618908122898849,\n",
       " 0.6124773065228237,\n",
       " 0.6060553472418446,\n",
       " 0.5996422451743463,\n",
       " 0.593238000438765,\n",
       " 0.5868426131535392,\n",
       " 0.5804560834371101,\n",
       " 0.5740784114079198,\n",
       " 0.567709597184414,\n",
       " 0.5611451262739517,\n",
       " 0.5545833122127254,\n",
       " 0.5480241550113935,\n",
       " 0.5414676546806144,\n",
       " 0.5349138112310463,\n",
       " 0.5283626246733478,\n",
       " 0.521814095018177,\n",
       " 0.5152682222761928,\n",
       " 0.5087250064580536,\n",
       " 0.5021844475744183,\n",
       " 0.4956465456359453,\n",
       " 0.48911130065329356,\n",
       " 0.4825787126371218,\n",
       " 0.47604878159808883,\n",
       " 0.46952150754685396,\n",
       " 0.46299689049407566,\n",
       " 0.45647493045041343,\n",
       " 0.4499556274265261,\n",
       " 0.443438981433073,\n",
       " 0.43692499248071326,\n",
       " 0.430413660580106,\n",
       " 0.4239049857419108,\n",
       " 0.4173989679767871,\n",
       " 0.41089560729539415,\n",
       " 0.4043949037083915,\n",
       " 0.3978968572264388,\n",
       " 0.3912792746887772,\n",
       " 0.3846616921511157,\n",
       " 0.37804410961345397,\n",
       " 0.3714265270757923,\n",
       " 0.36480894453813073,\n",
       " 0.3581913620004691,\n",
       " 0.3515737794628076,\n",
       " 0.34495619692514584,\n",
       " 0.33833861438748436,\n",
       " 0.3317210318498226,\n",
       " 0.3251034493121611,\n",
       " 0.31848586677449947,\n",
       " 0.3118682842368377,\n",
       " 0.30525070169917623,\n",
       " 0.29863311916151447,\n",
       " 0.2920155366238531,\n",
       " 0.28539795408619134,\n",
       " 0.27878037154852975,\n",
       " 0.2721627890108682,\n",
       " 0.2655452064732064,\n",
       " 0.25892762393554486,\n",
       " 0.25231004139788327,\n",
       " 0.24569245886022154,\n",
       " 0.2390748763225601,\n",
       " 0.23245729378489838,\n",
       " 0.22583971124723687,\n",
       " 0.21922212870957514,\n",
       " 0.21260454617191374,\n",
       " 0.205986963634252,\n",
       " 0.1993693810965904,\n",
       " 0.19275179855892877,\n",
       " 0.18613421602126703,\n",
       " 0.17951663348360553,\n",
       " 0.1728990509459439,\n",
       " 0.16628146840828228,\n",
       " 0.15966388587062078,\n",
       " 0.15304630333295915,\n",
       " 0.14642872079529753,\n",
       " 0.1398111382576358,\n",
       " 0.1331858223666139,\n",
       " 0.12656038839686035,\n",
       " 0.11993483634839638,\n",
       " 0.11330916622124275,\n",
       " 0.10668337801542102,\n",
       " 0.10005747173095185,\n",
       " 0.09343144736785645,\n",
       " 0.08680530492615574,\n",
       " 0.0801790444058709,\n",
       " 0.07355266580702295,\n",
       " 0.06692616912963285,\n",
       " 0.06029955437372202,\n",
       " 0.05367282153931102,\n",
       " 0.04704597062642116,\n",
       " 0.04041900163507347,\n",
       " 0.033791914565289016,\n",
       " 0.02716470941708895,\n",
       " 0.02053738619049379,\n",
       " 0.013909944885525568,\n",
       " 0.007282385502204353,\n",
       " 0.0006547080405517458,\n",
       " -0.005973087499411529,\n",
       " -0.012601001117663869,\n",
       " -0.01922903281418477,\n",
       " -0.025857182588953184,\n",
       " -0.03248545044194739,\n",
       " -0.039113836373147214,\n",
       " -0.04574234038253095,\n",
       " -0.052370962470077984,\n",
       " -0.058999702635766815,\n",
       " -0.06562856087957683,\n",
       " -0.07225753720148678,\n",
       " -0.07888663160147558,\n",
       " -0.08551584407952219,\n",
       " -0.09214517463560555,\n",
       " -0.09877462326970485,\n",
       " -0.10540418998179833,\n",
       " -0.11203387477186588,\n",
       " -0.11866367763988574,\n",
       " -0.1252935985858373,\n",
       " -0.1319236376096991,\n",
       " -0.13855379471145068,\n",
       " -0.14518406989107022,\n",
       " -0.1518144631485372,\n",
       " -0.15844497448383066,\n",
       " -0.16507560389692905,\n",
       " -0.17170635138781157,\n",
       " -0.17833721695645735,\n",
       " -0.1849682006028449,\n",
       " -0.1915993023269537,\n",
       " -0.19823052212876213,\n",
       " -0.2048618600082499,\n",
       " -0.211493315965395,\n",
       " -0.2181248900001771,\n",
       " -0.22475658211257504,\n",
       " -0.2313883923025675,\n",
       " -0.23802032057013345,\n",
       " -0.24465236691525225,\n",
       " -0.25128453133790246,\n",
       " -0.25791681383806286,\n",
       " -0.2645492144157129,\n",
       " -0.2711817330708312,\n",
       " -0.27781436980339685,\n",
       " -0.28444712461338867,\n",
       " -0.2910799975007857,\n",
       " -0.2982568169975509,\n",
       " -0.3054393010732523,\n",
       " -0.312627449679411,\n",
       " -0.31982126276754824,\n",
       " -0.3270207402891863,\n",
       " -0.33422588219584826,\n",
       " -0.3414366884390567,\n",
       " -0.34865315897033583,\n",
       " -0.35587529374120963,\n",
       " -0.36310309270320396,\n",
       " -0.3703365558078429,\n",
       " -0.37757568300665373,\n",
       " -0.38482047425116184,\n",
       " -0.39207092949289574,\n",
       " -0.3993270486833818,\n",
       " -0.40658883177414856,\n",
       " -0.41385627871672515,\n",
       " -0.42112938946264106,\n",
       " -0.42840816396342574,\n",
       " -0.43569260217060934,\n",
       " -0.44298270403572343,\n",
       " -0.4502784695102996,\n",
       " -0.4575798985458694,\n",
       " -0.46488699109396586,\n",
       " -0.4721997471061223,\n",
       " -0.47951816653387225,\n",
       " -0.48684224932874953,\n",
       " -0.4941719954422903,\n",
       " -0.5015074048260285,\n",
       " -0.5088484774315012,\n",
       " -0.5161952132102442,\n",
       " -0.5235476121137946,\n",
       " -0.5309056740936907,\n",
       " -0.5382693991014701,\n",
       " -0.5456387870886718,\n",
       " -0.5530138380068346,\n",
       " -0.5603945518074989,\n",
       " -0.5677809284422051,\n",
       " -0.5751729678624936,\n",
       " -0.5825706700199064,\n",
       " -0.5899740348659854,\n",
       " -0.5973830623522733,\n",
       " -0.6047977524303125,\n",
       " -0.6122181050516482,\n",
       " -0.6196441201678232,\n",
       " -0.6270757977303828,\n",
       " -0.6345131376908725,\n",
       " -0.6419561400008386,\n",
       " -0.6494048046118269,\n",
       " -0.6568591314753844,\n",
       " -0.664319120543059,\n",
       " -0.6717847717663994,\n",
       " -0.6792560850969528,\n",
       " -0.6867330604862698,\n",
       " -0.6942156978858992,\n",
       " -0.7017039972473925,\n",
       " -0.7091979585222992,\n",
       " -0.7166975816621718,\n",
       " -0.7242028666185619,\n",
       " -0.7317138133430221,\n",
       " -0.7392304217871051,\n",
       " -0.7467526919023655,\n",
       " -0.7542806236403566,\n",
       " -0.761814216952634,\n",
       " -0.7693534717907518,\n",
       " -0.776405503574738,\n",
       " -0.7834594234461041,\n",
       " -0.7905152313994642,\n",
       " -0.7975729274294333,\n",
       " -0.8046325115306265,\n",
       " -0.8116939836976584,\n",
       " -0.8187573439251432,\n",
       " -0.8258225922076968,\n",
       " -0.8328897285399335,\n",
       " -0.8399587529164675,\n",
       " -0.847029665331915,\n",
       " -0.8541024657808899,\n",
       " -0.8611771542580074,\n",
       " -0.8682537307578823,\n",
       " -0.8753321952751301,\n",
       " -0.8824125478043655,\n",
       " -0.8894947883402029,\n",
       " -0.8965789168772583,\n",
       " -0.9036649334101462,\n",
       " -0.9107528379334813,\n",
       " -0.91784263044188,\n",
       " -0.9249343109299557,\n",
       " -0.9320278793923251,\n",
       " -0.9391233358236019,\n",
       " -0.9462206802184026,\n",
       " -0.9533199125713419,\n",
       " -0.9604210328770341,\n",
       " -0.9675240411300957,\n",
       " -0.9746289373251413,\n",
       " -0.9817357214567869,\n",
       " -0.9888443935196465,\n",
       " -0.9959549535083367,\n",
       " -1.0030674014174719,\n",
       " -1.0101817372416677,\n",
       " -1.0172979609755401,\n",
       " -1.0244160726137033,\n",
       " -1.0315360721507738,\n",
       " -1.038657959581367,\n",
       " -1.0457817349000975,\n",
       " -1.0529073981015817,\n",
       " -1.0600349491804342,\n",
       " -1.0671643881312711,\n",
       " -1.074295714948708,\n",
       " -1.0814289296273605,\n",
       " -1.0885640321618433,\n",
       " -1.0957010225467723,\n",
       " -1.1028399007767642,\n",
       " -1.1099806668464338,\n",
       " -1.1171233207503968,\n",
       " -1.1242678624832694,\n",
       " -1.1314142920396666,\n",
       " -1.1385626094142038,\n",
       " -1.1457128146014977,\n",
       " -1.1528649075961634,\n",
       " -1.1600188883928173,\n",
       " -1.1671747569860746,\n",
       " -1.1743325133705516,\n",
       " -1.1814921575408641,\n",
       " -1.1886536894916269,\n",
       " -1.1958171092174568,\n",
       " -1.2029824167129706,\n",
       " -1.210149611972783,\n",
       " -1.21731869499151,\n",
       " -1.2244896657637676,\n",
       " -1.2316625242841726,\n",
       " -1.23883727054734,\n",
       " -1.2460139045478857,\n",
       " -1.2531924262804268,\n",
       " -1.2603728357395791,\n",
       " -1.2675551329199584,\n",
       " -1.27473931781618,\n",
       " -1.2819253904228616,\n",
       " -1.2891133507346189,\n",
       " -1.2963031987460674,\n",
       " -1.3034949344518236,\n",
       " -1.3106885578465037,\n",
       " -1.3178840689247242,\n",
       " -1.325081467681101,\n",
       " -1.3322807541102502,\n",
       " -1.3394819282067898,\n",
       " -1.3466849899653337,\n",
       " -1.3538899393804997,\n",
       " -1.3610967764469033,\n",
       " -1.3683055011591614,\n",
       " -1.3755161135118905,\n",
       " -1.3827286134997068,\n",
       " -1.389943001117227,\n",
       " -1.3971592763590663,\n",
       " -1.4043774392198434,\n",
       " -1.411597489694173,\n",
       " -1.418819427776672,\n",
       " -1.4260432534619578,\n",
       " -1.4332689667446459,\n",
       " -1.4404965676193542,\n",
       " -1.447726056080697,\n",
       " -1.454957432123293,\n",
       " -1.462190695741758,\n",
       " -1.469425846930709,\n",
       " -1.4766628856847628,\n",
       " -1.4839018119985348,\n",
       " -1.4911426258666438,\n",
       " -1.498385327283705,\n",
       " -1.5056299162443358,\n",
       " -1.5128763927431532,\n",
       " -1.5201247567747729,\n",
       " -1.5273750083338131,\n",
       " -1.5346271474148896,\n",
       " -1.5418811740126197,\n",
       " -1.5491370881216202,\n",
       " -1.5563948897365083,\n",
       " -1.5636545788519007,\n",
       " -1.570916155462414,\n",
       " -1.5781796195626656,\n",
       " -1.5854449711472727,\n",
       " -1.5927122102108522,\n",
       " -1.5999813367480207,\n",
       " -1.6072523507533956,\n",
       " -1.614525252221593,\n",
       " -1.6218000411472313,\n",
       " -1.6290767175249277,\n",
       " -1.636355281349298,\n",
       " -1.6436357326149618,\n",
       " -1.6509180713165328,\n",
       " -1.6582022974486303,\n",
       " -1.665488411005872,\n",
       " -1.672776411982874,\n",
       " -1.680066300374254,\n",
       " -1.6873580761746292,\n",
       " -1.6946517393786171,\n",
       " -1.7019472899808343]"
      ]
     },
     "execution_count": 367,
     "metadata": {},
     "output_type": "execute_result"
    }
   ],
   "source": [
    "factores_descuentos1[0] = factores_descuentos[0]\n",
    "factores_descuentos1"
   ]
  },
  {
   "cell_type": "code",
   "execution_count": 368,
   "metadata": {},
   "outputs": [
    {
     "data": {
      "text/html": [
       "<div>\n",
       "<style scoped>\n",
       "    .dataframe tbody tr th:only-of-type {\n",
       "        vertical-align: middle;\n",
       "    }\n",
       "\n",
       "    .dataframe tbody tr th {\n",
       "        vertical-align: top;\n",
       "    }\n",
       "\n",
       "    .dataframe thead th {\n",
       "        text-align: right;\n",
       "    }\n",
       "</style>\n",
       "<table border=\"1\" class=\"dataframe\">\n",
       "  <thead>\n",
       "    <tr style=\"text-align: right;\">\n",
       "      <th></th>\n",
       "      <th>Id_Cupón</th>\n",
       "      <th>Fixing_Day</th>\n",
       "      <th>Start_Day</th>\n",
       "      <th>Final_Day</th>\n",
       "      <th>Fecha_pago</th>\n",
       "      <th>Tau</th>\n",
       "      <th>Interpolados</th>\n",
       "      <th>Factores_Descuentos</th>\n",
       "    </tr>\n",
       "  </thead>\n",
       "  <tbody>\n",
       "    <tr>\n",
       "      <th>0</th>\n",
       "      <td>1</td>\n",
       "      <td>2022/03/25</td>\n",
       "      <td>2022/03/28</td>\n",
       "      <td>2022/04/25</td>\n",
       "      <td>2022/04/25</td>\n",
       "      <td>0.077778</td>\n",
       "      <td>0.062400</td>\n",
       "      <td>0.994998</td>\n",
       "    </tr>\n",
       "    <tr>\n",
       "      <th>1</th>\n",
       "      <td>2</td>\n",
       "      <td>2022/04/22</td>\n",
       "      <td>2022/04/25</td>\n",
       "      <td>2022/05/23</td>\n",
       "      <td>2022/05/23</td>\n",
       "      <td>0.077778</td>\n",
       "      <td>0.062400</td>\n",
       "      <td>0.990364</td>\n",
       "    </tr>\n",
       "    <tr>\n",
       "      <th>2</th>\n",
       "      <td>3</td>\n",
       "      <td>2022/05/20</td>\n",
       "      <td>2022/05/23</td>\n",
       "      <td>2022/06/20</td>\n",
       "      <td>2022/06/20</td>\n",
       "      <td>0.077778</td>\n",
       "      <td>0.062400</td>\n",
       "      <td>0.985581</td>\n",
       "    </tr>\n",
       "    <tr>\n",
       "      <th>3</th>\n",
       "      <td>4</td>\n",
       "      <td>2022/06/17</td>\n",
       "      <td>2022/06/20</td>\n",
       "      <td>2022/07/18</td>\n",
       "      <td>2022/07/18</td>\n",
       "      <td>0.077778</td>\n",
       "      <td>0.063783</td>\n",
       "      <td>0.980327</td>\n",
       "    </tr>\n",
       "    <tr>\n",
       "      <th>4</th>\n",
       "      <td>5</td>\n",
       "      <td>2022/07/15</td>\n",
       "      <td>2022/07/18</td>\n",
       "      <td>2022/08/15</td>\n",
       "      <td>2022/08/15</td>\n",
       "      <td>0.077778</td>\n",
       "      <td>0.065167</td>\n",
       "      <td>0.974859</td>\n",
       "    </tr>\n",
       "    <tr>\n",
       "      <th>...</th>\n",
       "      <td>...</td>\n",
       "      <td>...</td>\n",
       "      <td>...</td>\n",
       "      <td>...</td>\n",
       "      <td>...</td>\n",
       "      <td>...</td>\n",
       "      <td>...</td>\n",
       "      <td>...</td>\n",
       "    </tr>\n",
       "    <tr>\n",
       "      <th>385</th>\n",
       "      <td>386</td>\n",
       "      <td>2051/09/29</td>\n",
       "      <td>2051/10/02</td>\n",
       "      <td>2051/10/30</td>\n",
       "      <td>2051/10/30</td>\n",
       "      <td>0.077778</td>\n",
       "      <td>0.089651</td>\n",
       "      <td>-1.672776</td>\n",
       "    </tr>\n",
       "    <tr>\n",
       "      <th>386</th>\n",
       "      <td>387</td>\n",
       "      <td>2051/10/27</td>\n",
       "      <td>2051/10/30</td>\n",
       "      <td>2051/11/27</td>\n",
       "      <td>2051/11/27</td>\n",
       "      <td>0.077778</td>\n",
       "      <td>0.089663</td>\n",
       "      <td>-1.680066</td>\n",
       "    </tr>\n",
       "    <tr>\n",
       "      <th>387</th>\n",
       "      <td>388</td>\n",
       "      <td>2051/11/24</td>\n",
       "      <td>2051/11/27</td>\n",
       "      <td>2051/12/25</td>\n",
       "      <td>2051/12/25</td>\n",
       "      <td>0.077778</td>\n",
       "      <td>0.089675</td>\n",
       "      <td>-1.687358</td>\n",
       "    </tr>\n",
       "    <tr>\n",
       "      <th>388</th>\n",
       "      <td>389</td>\n",
       "      <td>2051/12/22</td>\n",
       "      <td>2051/12/25</td>\n",
       "      <td>2052/01/22</td>\n",
       "      <td>2052/01/22</td>\n",
       "      <td>0.077778</td>\n",
       "      <td>0.089688</td>\n",
       "      <td>-1.694652</td>\n",
       "    </tr>\n",
       "    <tr>\n",
       "      <th>389</th>\n",
       "      <td>390</td>\n",
       "      <td>2052/01/19</td>\n",
       "      <td>2052/01/22</td>\n",
       "      <td>2052/02/19</td>\n",
       "      <td>2052/02/19</td>\n",
       "      <td>0.077778</td>\n",
       "      <td>0.089700</td>\n",
       "      <td>-1.701947</td>\n",
       "    </tr>\n",
       "  </tbody>\n",
       "</table>\n",
       "<p>390 rows × 8 columns</p>\n",
       "</div>"
      ],
      "text/plain": [
       "     Id_Cupón  Fixing_Day   Start_Day   Final_Day  Fecha_pago       Tau  \\\n",
       "0           1  2022/03/25  2022/03/28  2022/04/25  2022/04/25  0.077778   \n",
       "1           2  2022/04/22  2022/04/25  2022/05/23  2022/05/23  0.077778   \n",
       "2           3  2022/05/20  2022/05/23  2022/06/20  2022/06/20  0.077778   \n",
       "3           4  2022/06/17  2022/06/20  2022/07/18  2022/07/18  0.077778   \n",
       "4           5  2022/07/15  2022/07/18  2022/08/15  2022/08/15  0.077778   \n",
       "..        ...         ...         ...         ...         ...       ...   \n",
       "385       386  2051/09/29  2051/10/02  2051/10/30  2051/10/30  0.077778   \n",
       "386       387  2051/10/27  2051/10/30  2051/11/27  2051/11/27  0.077778   \n",
       "387       388  2051/11/24  2051/11/27  2051/12/25  2051/12/25  0.077778   \n",
       "388       389  2051/12/22  2051/12/25  2052/01/22  2052/01/22  0.077778   \n",
       "389       390  2052/01/19  2052/01/22  2052/02/19  2052/02/19  0.077778   \n",
       "\n",
       "     Interpolados  Factores_Descuentos  \n",
       "0        0.062400             0.994998  \n",
       "1        0.062400             0.990364  \n",
       "2        0.062400             0.985581  \n",
       "3        0.063783             0.980327  \n",
       "4        0.065167             0.974859  \n",
       "..            ...                  ...  \n",
       "385      0.089651            -1.672776  \n",
       "386      0.089663            -1.680066  \n",
       "387      0.089675            -1.687358  \n",
       "388      0.089688            -1.694652  \n",
       "389      0.089700            -1.701947  \n",
       "\n",
       "[390 rows x 8 columns]"
      ]
     },
     "execution_count": 368,
     "metadata": {},
     "output_type": "execute_result"
    }
   ],
   "source": [
    "df = pd.DataFrame(list(zip(id_cupon1,dia_fixing1,dia_start1,dia_final1,dia_final1,tau1,interpolados,factores_descuentos1)), columns = [\"Id_Cupón\", \"Fixing_Day\", \"Start_Day\", \"Final_Day\",\"Fecha_pago\",\"Tau\",\"Interpolados\",\"Factores_Descuentos\"])\n",
    "df"
   ]
  },
  {
   "cell_type": "code",
   "execution_count": null,
   "metadata": {},
   "outputs": [],
   "source": [
    "#caso_base = {\"Id_Cupón\": id_cupon1,\"Día_spot\":dia_start1, \"Día_fixing\" :dia_fixing1, \"Día_final\":dia_final1}\n",
    "#df_caso_base = pd.DataFrame(caso_base)\n",
    "#print(\"Data Frame\")\n",
    "#print(df_caso_base"
   ]
  }
 ],
 "metadata": {
  "kernelspec": {
   "display_name": "Python 3",
   "language": "python",
   "name": "python3"
  },
  "language_info": {
   "codemirror_mode": {
    "name": "ipython",
    "version": 3
   },
   "file_extension": ".py",
   "mimetype": "text/x-python",
   "name": "python",
   "nbconvert_exporter": "python",
   "pygments_lexer": "ipython3",
   "version": "3.8.3"
  }
 },
 "nbformat": 4,
 "nbformat_minor": 5
}
