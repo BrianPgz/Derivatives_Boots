{
 "cells": [
  {
   "cell_type": "markdown",
   "id": "8f831c10",
   "metadata": {},
   "source": [
    "Bootstraping "
   ]
  },
  {
   "cell_type": "code",
   "execution_count": 1,
   "id": "fce1cb0c",
   "metadata": {},
   "outputs": [],
   "source": [
    "import numpy as np \n",
    "import pandas as pd \n",
    "import matplotlib as mpl\n",
    "import scipy \n",
    "import matplotlib.pyplot as plt\n",
    "from math import log"
   ]
  },
  {
   "cell_type": "code",
   "execution_count": null,
   "id": "4d7a9593",
   "metadata": {},
   "outputs": [],
   "source": []
  },
  {
   "cell_type": "code",
   "execution_count": 11,
   "id": "495099ce",
   "metadata": {},
   "outputs": [
    {
     "name": "stdout",
     "output_type": "stream",
     "text": [
      "     tipo     tasas\n",
      "0     O/N  0.000624\n",
      "1    TIIE  0.000624\n",
      "2     3X1  0.000665\n",
      "3     6X1  0.000718\n",
      "4     9X1  0.000766\n",
      "5    13X1  0.000817\n",
      "6    26X1  0.000864\n",
      "7    39X1  0.000869\n",
      "8    52X1  0.000861\n",
      "9    65X1  0.000856\n",
      "10   91X1  0.000856\n",
      "11  130X1  0.000857\n",
      "12  195X1  0.000881\n",
      "13  260X1  0.000897\n",
      "14  390X1  0.000906\n"
     ]
    }
   ],
   "source": [
    "t_tasas=pd.DataFrame() \n",
    "t_tasas[\"tipo\"]= [\"O/N\",\"TIIE\", \"3X1\",\"6X1\",\"9X1\",\"13X1\",\"26X1\"\n",
    "                  ,\"39X1\",\"52X1\",\"65X1\",\"91X1\",\"130X1\",\"195X1\",\n",
    "                 \"260X1\",\"390X1\"]\n",
    "t_tasas[\"tasas\"]=[0.000624,\n",
    "0.000624,0.0006655,0.000718,0.000766,0.000817,0.000864,0.0008685,0.000861,0.0008565,0.0008565,0.000857,0.000881,0.000897,0.0009065]\n",
    "print(t_tasas)\n"
   ]
  },
  {
   "cell_type": "markdown",
   "id": "8c7eaa91",
   "metadata": {},
   "source": [
    "Vamos a meter fechas inhabiles en un data frame"
   ]
  },
  {
   "cell_type": "code",
   "execution_count": 21,
   "id": "89d7aff0",
   "metadata": {},
   "outputs": [
    {
     "name": "stdout",
     "output_type": "stream",
     "text": [
      "         Fechas\n",
      "0    01/01/2022\n",
      "1    07/02/2022\n",
      "2    21/03/2022\n",
      "3    14/04/2022\n",
      "4    15/04/2022\n",
      "..          ...\n",
      "189  16/09/2039\n",
      "190  02/11/2039\n",
      "191  21/11/2039\n",
      "192  12/12/2039\n",
      "193  25/12/2039\n",
      "\n",
      "[194 rows x 1 columns]\n"
     ]
    }
   ],
   "source": [
    "ric=\"fechas\"\n",
    "path=\"C:\\\\Users\\\\Brian Pérez\\\\Documents\\\\Octavo\\\\Derivados\\\\Derivatives_Boots\\\\\"+ric+\".csv\" \n",
    "raw_data=pd.read_csv(path)\n",
    "print(raw_data)\n",
    "\n",
    "t_dias_in=pd.DataFrame()\n",
    "t_dias_in[\"fechas\"]=pd.to_datetime(raw_data[\"Fechas\"],dayfirst=True) \n"
   ]
  },
  {
   "cell_type": "markdown",
   "id": "22c2b93c",
   "metadata": {},
   "source": [
    "Tenemos que crear un calendario"
   ]
  },
  {
   "cell_type": "code",
   "execution_count": 24,
   "id": "34bf7f0c",
   "metadata": {},
   "outputs": [
    {
     "data": {
      "text/html": [
       "<div>\n",
       "<style scoped>\n",
       "    .dataframe tbody tr th:only-of-type {\n",
       "        vertical-align: middle;\n",
       "    }\n",
       "\n",
       "    .dataframe tbody tr th {\n",
       "        vertical-align: top;\n",
       "    }\n",
       "\n",
       "    .dataframe thead th {\n",
       "        text-align: right;\n",
       "    }\n",
       "</style>\n",
       "<table border=\"1\" class=\"dataframe\">\n",
       "  <thead>\n",
       "    <tr style=\"text-align: right;\">\n",
       "      <th></th>\n",
       "      <th>fechas</th>\n",
       "    </tr>\n",
       "  </thead>\n",
       "  <tbody>\n",
       "    <tr>\n",
       "      <th>0</th>\n",
       "      <td>2022-01-01</td>\n",
       "    </tr>\n",
       "    <tr>\n",
       "      <th>1</th>\n",
       "      <td>2022-02-07</td>\n",
       "    </tr>\n",
       "    <tr>\n",
       "      <th>2</th>\n",
       "      <td>2022-03-21</td>\n",
       "    </tr>\n",
       "    <tr>\n",
       "      <th>3</th>\n",
       "      <td>2022-04-14</td>\n",
       "    </tr>\n",
       "    <tr>\n",
       "      <th>4</th>\n",
       "      <td>2022-04-15</td>\n",
       "    </tr>\n",
       "  </tbody>\n",
       "</table>\n",
       "</div>"
      ],
      "text/plain": [
       "      fechas\n",
       "0 2022-01-01\n",
       "1 2022-02-07\n",
       "2 2022-03-21\n",
       "3 2022-04-14\n",
       "4 2022-04-15"
      ]
     },
     "execution_count": 24,
     "metadata": {},
     "output_type": "execute_result"
    }
   ],
   "source": [
    "calendario=pd.DataFrame() \n",
    "\n",
    "calendario[\"fechas\"]= pd.to_datetime(raw_data[\"Fechas\"],dayfirst=True) \n",
    "calendario.head()\n",
    "\n"
   ]
  },
  {
   "cell_type": "markdown",
   "id": "a9d0ba2e",
   "metadata": {},
   "source": [
    "Tenemos que calcular factores de descuento $P(0,1d)= e^{- 0.000624 \\tau(0,1d)}$"
   ]
  }
 ],
 "metadata": {
  "kernelspec": {
   "display_name": "Python 3",
   "language": "python",
   "name": "python3"
  },
  "language_info": {
   "codemirror_mode": {
    "name": "ipython",
    "version": 3
   },
   "file_extension": ".py",
   "mimetype": "text/x-python",
   "name": "python",
   "nbconvert_exporter": "python",
   "pygments_lexer": "ipython3",
   "version": "3.8.8"
  }
 },
 "nbformat": 4,
 "nbformat_minor": 5
}
